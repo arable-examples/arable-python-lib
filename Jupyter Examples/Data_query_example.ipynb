{
 "cells": [
  {
   "cell_type": "markdown",
   "metadata": {},
   "source": [
    "## Query Example"
   ]
  },
  {
   "cell_type": "markdown",
   "metadata": {},
   "source": [
    "If you haven't installed pandas, seaborn, and/or matplotlib, you can do it here by using `!pip3 install ...`"
   ]
  },
  {
   "cell_type": "code",
   "execution_count": null,
   "metadata": {},
   "outputs": [],
   "source": [
    "import arablepy\n",
    "import pandas as pd\n",
    "import os\n",
    "import requests\n",
    "pd.options.display.max_columns = None\n",
    "pd.set_option('max_colwidth', 40)\n",
    "import numpy as np\n",
    "import matplotlib.pyplot as plt\n",
    "import seaborn as sns"
   ]
  },
  {
   "cell_type": "code",
   "execution_count": null,
   "metadata": {},
   "outputs": [],
   "source": [
    "# Create a client instance\n",
    "client = arablepy.ArableClient()\n",
    "# Provide credentials\n",
    "client.connect(email='your@email.com', password='password')"
   ]
  },
  {
   "cell_type": "code",
   "execution_count": null,
   "metadata": {},
   "outputs": [],
   "source": [
    "# Basic data query\n",
    "df = client.data('hourly', devices=[], start_time='2020-06-22')\n",
    "df"
   ]
  },
  {
   "cell_type": "code",
   "execution_count": null,
   "metadata": {},
   "outputs": [],
   "source": [
    "# Get tables avaible and datadictionary for each table\n",
    "client.schema('hourly', df=True)"
   ]
  },
  {
   "cell_type": "code",
   "execution_count": null,
   "metadata": {},
   "outputs": [],
   "source": [
    "# All devices you can see\n",
    "devices = client.devices(df=True)\n",
    "devices"
   ]
  },
  {
   "cell_type": "code",
   "execution_count": null,
   "metadata": {},
   "outputs": [],
   "source": [
    "# Grab names for devices you can see\n",
    "device_ids = devices['name']\n",
    "\n",
    "# Query data for available devices\n",
    "df = client.data('daily', devices=[device_ids], start_time='2020-03-01')\n",
    "df.to_csv('file.csv')"
   ]
  }
 ],
 "metadata": {
  "kernelspec": {
   "display_name": "Python 3",
   "language": "python",
   "name": "python3"
  },
  "language_info": {
   "codemirror_mode": {
    "name": "ipython",
    "version": 3
   },
   "file_extension": ".py",
   "mimetype": "text/x-python",
   "name": "python",
   "nbconvert_exporter": "python",
   "pygments_lexer": "ipython3",
   "version": "3.7.3"
  }
 },
 "nbformat": 4,
 "nbformat_minor": 2
}
